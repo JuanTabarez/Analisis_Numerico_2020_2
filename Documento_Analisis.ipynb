{
  "nbformat": 4,
  "nbformat_minor": 0,
  "metadata": {
    "colab": {
      "name": "Dimensionamiento_Analisis.ipynb",
      "provenance": [],
      "authorship_tag": "ABX9TyPaftBrye8LtNEXmKka4k7z",
      "include_colab_link": true
    },
    "kernelspec": {
      "display_name": "Python 3",
      "name": "python3"
    }
  },
  "cells": [
    {
      "cell_type": "markdown",
      "metadata": {
        "id": "view-in-github",
        "colab_type": "text"
      },
      "source": [
        "<a href=\"https://colab.research.google.com/github/JuanTabarez/Analisis_Numerico_2020_2/blob/master/Documento_Analisis.ipynb\" target=\"_parent\"><img src=\"https://colab.research.google.com/assets/colab-badge.svg\" alt=\"Open In Colab\"/></a>"
      ]
    },
    {
      "cell_type": "markdown",
      "metadata": {
        "id": "jvN1UvF8jhD1"
      },
      "source": [
        "# **Curva de carga**\n",
        "\n",
        "\n"
      ]
    },
    {
      "cell_type": "code",
      "metadata": {
        "id": "jmpA4nWejSii"
      },
      "source": [
        "import numpy as np\n",
        "import matplotlib.pyplot as plt\n",
        "from scipy.stats import norm"
      ],
      "execution_count": null,
      "outputs": []
    },
    {
      "cell_type": "code",
      "metadata": {
        "colab": {
          "base_uri": "https://localhost:8080/",
          "height": 282
        },
        "id": "gwVao4mVj0DY",
        "outputId": "cee5fb7d-26e4-422a-cb23-f9f76b689978"
      },
      "source": [
        "x = np.arange(0,24,0.1)\n",
        "\n",
        "mean, standard_deviation = 6,2\n",
        "\n",
        "y1=norm(mean,standard_deviation)\n",
        "m2,sd2 = 12,2.5\n",
        "y2=norm(m2,sd2)\n",
        "m3,sd3 = 18,2\n",
        "y3 = norm(m3,sd3)\n",
        "\n",
        "#plt.plot(x,4*y1.pdf(x))\n",
        "#plt.plot(x,6*y2.pdf(x))\n",
        "#plt.plot(x,8*y3.pdf(x))\n",
        "\n",
        "demanda = 0.1e3*y1.pdf(x) + 0.15e3*y2.pdf(x) + 0.19e3*y3.pdf(x)\n",
        "\n",
        "plt.plot(x,demanda)\n"
      ],
      "execution_count": null,
      "outputs": [
        {
          "output_type": "execute_result",
          "data": {
            "text/plain": [
              "[<matplotlib.lines.Line2D at 0x7f7e82d5f278>]"
            ]
          },
          "metadata": {
            "tags": []
          },
          "execution_count": 39
        },
        {
          "output_type": "display_data",
          "data": {
            "image/png": "[encoded data removed]",
            "text/plain": [
              "<Figure size 432x288 with 1 Axes>"
            ]
          },
          "metadata": {
            "tags": [],
            "needs_background": "light"
          }
        }
      ]
    },
    {
      "cell_type": "code",
      "metadata": {
        "colab": {
          "base_uri": "https://localhost:8080/"
        },
        "id": "-YUKCIRgnNLC",
        "outputId": "2fbd385f-faa6-4d0b-9a2f-0853e6a5b463"
      },
      "source": [
        "print(x,demanda)"
      ],
      "execution_count": null,
      "outputs": [
        {
          "output_type": "stream",
          "text": [
            "[ 0.   0.1  0.2  0.3  0.4  0.5  0.6  0.7  0.8  0.9  1.   1.1  1.2  1.3\n",
            "  1.4  1.5  1.6  1.7  1.8  1.9  2.   2.1  2.2  2.3  2.4  2.5  2.6  2.7\n",
            "  2.8  2.9  3.   3.1  3.2  3.3  3.4  3.5  3.6  3.7  3.8  3.9  4.   4.1\n",
            "  4.2  4.3  4.4  4.5  4.6  4.7  4.8  4.9  5.   5.1  5.2  5.3  5.4  5.5\n",
            "  5.6  5.7  5.8  5.9  6.   6.1  6.2  6.3  6.4  6.5  6.6  6.7  6.8  6.9\n",
            "  7.   7.1  7.2  7.3  7.4  7.5  7.6  7.7  7.8  7.9  8.   8.1  8.2  8.3\n",
            "  8.4  8.5  8.6  8.7  8.8  8.9  9.   9.1  9.2  9.3  9.4  9.5  9.6  9.7\n",
            "  9.8  9.9 10.  10.1 10.2 10.3 10.4 10.5 10.6 10.7 10.8 10.9 11.  11.1\n",
            " 11.2 11.3 11.4 11.5 11.6 11.7 11.8 11.9 12.  12.1 12.2 12.3 12.4 12.5\n",
            " 12.6 12.7 12.8 12.9 13.  13.1 13.2 13.3 13.4 13.5 13.6 13.7 13.8 13.9\n",
            " 14.  14.1 14.2 14.3 14.4 14.5 14.6 14.7 14.8 14.9 15.  15.1 15.2 15.3\n",
            " 15.4 15.5 15.6 15.7 15.8 15.9 16.  16.1 16.2 16.3 16.4 16.5 16.6 16.7\n",
            " 16.8 16.9 17.  17.1 17.2 17.3 17.4 17.5 17.6 17.7 17.8 17.9 18.  18.1\n",
            " 18.2 18.3 18.4 18.5 18.6 18.7 18.8 18.9 19.  19.1 19.2 19.3 19.4 19.5\n",
            " 19.6 19.7 19.8 19.9 20.  20.1 20.2 20.3 20.4 20.5 20.6 20.7 20.8 20.9\n",
            " 21.  21.1 21.2 21.3 21.4 21.5 21.6 21.7 21.8 21.9 22.  22.1 22.2 22.3\n",
            " 22.4 22.5 22.6 22.7 22.8 22.9 23.  23.1 23.2 23.3 23.4 23.5 23.6 23.7\n",
            " 23.8 23.9] [ 0.2218301   0.2574198   0.29797445  0.34405811  0.39627837  0.45528658\n",
            "  0.52177752  0.59648849  0.68019759  0.77372139  0.87791157  0.99365083\n",
            "  1.12184767  1.26343025  1.41933916  1.59051918  1.77790985  1.98243515\n",
            "  2.20499201  2.44643801  2.70757814  2.98915084  3.29181349  3.6161274\n",
            "  3.96254262  4.33138276  4.72282994  5.13691038  5.57348062  6.03221492\n",
            "  6.5125939   7.01389496  7.53518456  8.0753127   8.63291     9.20638742\n",
            "  9.79393888 10.39354708 11.00299242 11.61986527 12.24158152 12.86540137\n",
            " 13.48845129 14.10774895 14.72023086 15.32278252 15.91227063 16.48557701\n",
            " 17.03963374 17.57145906 18.07819346 18.55713542 19.00577629 19.42183361\n",
            " 19.80328245 20.14838412 20.45571185 20.72417283 20.95302633 21.14189748\n",
            " 21.29078641 21.40007264 21.47051439 21.50324304 21.49975252 21.46188392\n",
            " 21.39180548 21.2919882  21.16517746 21.01436115 20.84273456 20.65366286\n",
            " 20.45064148 20.23725503 20.01713555 19.79392033 19.57121025 19.35252902\n",
            " 19.14128389 18.9407284  18.75392755 18.58372586 18.43271876 18.30322733\n",
            " 18.19727699 18.11658001 18.06252216 18.03615335 18.03818248 18.06897618\n",
            " 18.12856154 18.21663255 18.33256008 18.47540509 18.643935   18.83664268\n",
            " 19.05176797 19.28732126 19.5411089  19.81076019 20.09375536 20.38745463\n",
            " 20.6891277  20.99598357 21.30520045 21.61395536 21.91945333 22.21895593\n",
            " 22.50980891 22.78946879 23.0555283  23.3057404  23.53804085 23.75056914\n",
            " 23.9416877  24.10999933 24.25436265 24.37390559 24.46803676 24.5364547\n",
            " 24.57915484 24.59643424 24.58889386 24.55743846 24.503274   24.42790248\n",
            " 24.33311416 24.22097721 24.0938246  23.95423836 23.8050311  23.64922484\n",
            " 23.49002718 23.33080491 23.17505492 23.02637288 22.88841951 22.76488474\n",
            " 22.65945002 22.57574893 22.5173265  22.48759743 22.48980379 22.52697243\n",
            " 22.60187266 22.71697469 22.8744094  23.07592983 23.32287522 23.61613795\n",
            " 23.95613407 24.34277804 24.7754621  25.25304096 25.77382216 26.33556253\n",
            " 26.9354712  27.57021937 28.23595697 28.9283364  29.64254325 30.3733339\n",
            " 31.11507976 31.86181764 32.607306   33.3450862  34.06854828 34.77100028\n",
            " 35.44574025 36.08612997 36.68566942 37.23807078 37.737331   38.17780171\n",
            " 38.55425559 38.86194799 39.09667285 39.25481227 39.33337853 39.33004841\n",
            " 39.24318876 39.07187341 38.81589082 38.47574261 38.052633   37.54844932\n",
            " 36.9657341  36.30764919 35.57793258 34.78084872 33.92113315 33.00393253\n",
            " 32.03474087 31.01933319 29.96369763 28.87396696 27.75635073 26.61706883\n",
            " 25.46228754 24.29805891 23.13026412 21.9645616  20.80634039 19.66067918\n",
            " 18.53231136 17.42559626 16.34449665 15.29256243 14.27292051 13.28827045\n",
            " 12.3408857  11.43261995 10.56491818  9.73883199  8.95503842  8.2138621\n",
            "  7.51529975  6.85904674  6.24452515  5.67091261  5.13717163  4.64207885\n",
            "  4.18425383  3.76218702  3.37426653  3.01880351  2.69405586  2.39825014\n",
            "  2.12960153  1.88633178  1.6666851   1.46894201  1.29143121  1.13253945\n",
            "  0.99071959  0.86449689  0.75247369  0.65333261  0.56583841  0.48883864]\n"
          ],
          "name": "stdout"
        }
      ]
    },
    {
      "cell_type": "code",
      "metadata": {
        "colab": {
          "base_uri": "https://localhost:8080/"
        },
        "id": "LNQvlydenZAm",
        "outputId": "75a826f0-dc31-417e-e382-4f40a3f31088"
      },
      "source": [
        "print(demanda.sum())"
      ],
      "execution_count": null,
      "outputs": [
        {
          "output_type": "stream",
          "text": [
            "4395.975160815731\n"
          ],
          "name": "stdout"
        }
      ]
    },
    {
      "cell_type": "markdown",
      "metadata": {
        "id": "npIW1N8Enwm2"
      },
      "source": [
        "# **Curva de generacion**"
      ]
    },
    {
      "cell_type": "code",
      "metadata": {
        "colab": {
          "base_uri": "https://localhost:8080/",
          "height": 317
        },
        "id": "BBiFJMA6n1cE",
        "outputId": "b5517e7b-e759-4d96-dc44-105d55b9e102"
      },
      "source": [
        "from matplotlib.pyplot import *\n",
        "from numpy import *\n",
        "x=linspace(0,24,5000)\n",
        "y=-10*(x-6)*(x-18)\n",
        "plot(x,y)\n",
        "xlabel(\"x axis\")\n",
        "ylabel(\"y axis\")\n",
        "print(x)\n",
        "\n",
        "plt.ylim(00,500) \n",
        "plt.xlim(0,24)\n",
        "show()\n"
      ],
      "execution_count": null,
      "outputs": [
        {
          "output_type": "stream",
          "text": [
            "[0.00000000e+00 4.80096019e-03 9.60192038e-03 ... 2.39903981e+01\n",
            " 2.39951990e+01 2.40000000e+01]\n"
          ],
          "name": "stdout"
        },
        {
          "output_type": "display_data",
          "data": {
            "image/png": "[encoded data removed]",
            "text/plain": [
              "<Figure size 432x288 with 1 Axes>"
            ]
          },
          "metadata": {
            "tags": [],
            "needs_background": "light"
          }
        }
      ]
    },
    {
      "cell_type": "code",
      "metadata": {
        "id": "B283I5hsv1YY"
      },
      "source": [
        "def integrate(y_vals, h):  #Funcion de integral\n",
        "       i=1\n",
        "       total=y_vals[0]+y_vals[-1]\n",
        "       for y in y_vals[1:-1]:\n",
        "           if i%2 == 0:\n",
        "               total+=2*y\n",
        "           else:\n",
        "               total+=4*y\n",
        "           i+=1\n",
        "       return total*(h/3.0)"
      ],
      "execution_count": null,
      "outputs": []
    },
    {
      "cell_type": "code",
      "metadata": {
        "colab": {
          "base_uri": "https://localhost:8080/"
        },
        "id": "XTt_RK15wBqY",
        "outputId": "3daf9e9b-9041-4231-baf1-87f1f77911f7"
      },
      "source": [
        "y_values=x\n",
        "interval=1.2\n",
        "area=integrate(y_values, interval)\n",
        "print (\"The area is\", area)"
      ],
      "execution_count": null,
      "outputs": [
        {
          "output_type": "stream",
          "text": [
            "The area is 71976.00096019212\n"
          ],
          "name": "stdout"
        }
      ]
    },
    {
      "cell_type": "code",
      "metadata": {
        "id": "hxmF4Q0kz4AI",
        "colab": {
          "base_uri": "https://localhost:8080/"
        },
        "outputId": "406574d3-1d00-4676-f5ef-fbfaaebcfb6a"
      },
      "source": [
        "pip install pvlib"
      ],
      "execution_count": null,
      "outputs": [
        {
          "output_type": "stream",
          "text": [
            "Requirement already satisfied: pvlib in /usr/local/lib/python3.6/dist-packages (0.8.0)\n",
            "Requirement already satisfied: pytz in /usr/local/lib/python3.6/dist-packages (from pvlib) (2018.9)\n",
            "Requirement already satisfied: requests in /usr/local/lib/python3.6/dist-packages (from pvlib) (2.23.0)\n",
            "Requirement already satisfied: numpy>=1.12.0 in /usr/local/lib/python3.6/dist-packages (from pvlib) (1.18.5)\n",
            "Requirement already satisfied: pandas>=0.22.0 in /usr/local/lib/python3.6/dist-packages (from pvlib) (1.1.4)\n",
            "Requirement already satisfied: scipy>=1.2.0 in /usr/local/lib/python3.6/dist-packages (from pvlib) (1.4.1)\n",
            "Requirement already satisfied: idna<3,>=2.5 in /usr/local/lib/python3.6/dist-packages (from requests->pvlib) (2.10)\n",
            "Requirement already satisfied: certifi>=2017.4.17 in /usr/local/lib/python3.6/dist-packages (from requests->pvlib) (2020.11.8)\n",
            "Requirement already satisfied: urllib3!=1.25.0,!=1.25.1,<1.26,>=1.21.1 in /usr/local/lib/python3.6/dist-packages (from requests->pvlib) (1.24.3)\n",
            "Requirement already satisfied: chardet<4,>=3.0.2 in /usr/local/lib/python3.6/dist-packages (from requests->pvlib) (3.0.4)\n",
            "Requirement already satisfied: python-dateutil>=2.7.3 in /usr/local/lib/python3.6/dist-packages (from pandas>=0.22.0->pvlib) (2.8.1)\n",
            "Requirement already satisfied: six>=1.5 in /usr/local/lib/python3.6/dist-packages (from python-dateutil>=2.7.3->pandas>=0.22.0->pvlib) (1.15.0)\n"
          ],
          "name": "stdout"
        }
      ]
    },
    {
      "cell_type": "code",
      "metadata": {
        "colab": {
          "base_uri": "https://localhost:8080/",
          "height": 279
        },
        "id": "DinRIQQVx6W7",
        "outputId": "d75d7161-ecb8-40fc-db79-27ff25c5fbfa"
      },
      "source": [
        "from pvlib import location\n",
        "from pvlib import irradiance\n",
        "import pandas as pd\n",
        "from matplotlib import pyplot as plt\n",
        "\n",
        "\n",
        "tz = 'Etc/GMT+5'\n",
        "lat, lon = 5.067, -75.517\n",
        "\n",
        "#Crear la localizacion, lat, lon, timezone\n",
        "\n",
        "site = location.Location(lat, lon, tz=tz)\n",
        "\n",
        "\n",
        "# Definir una función para que podamos reutilizar la secuencia \n",
        "# de operaciones con diferentes ubicaciones.\n",
        "\n",
        "def get_irradiance(site_location, date, tilt, surface_azimuth):\n",
        "    # Crear intervalos de 10 minutos para un día\n",
        "\n",
        "    times = pd.date_range(date, freq='10min', periods=6*24,\n",
        "                          tz=site_location.tz)\n",
        "    \n",
        "   #  Genere datos claros usando el modelo Ineichen, que es el predeterminado \n",
        "   #  El método get_clearsky devuelve un marco de datos con valores para \n",
        "   #  GHI, DNI y DHI\n",
        "    clearsky = site_location.get_clearsky(times)\n",
        "    # Obtenga el azimuth solar y el zenith para pasar a la función de transposición\n",
        "    solar_position = site_location.get_solarposition(times=times)\n",
        "    # Utilice la función get_total_irradiance para transponer el GHI a POA\n",
        "    POA_irradiance = irradiance.get_total_irradiance(\n",
        "        surface_tilt=tilt,\n",
        "        surface_azimuth=surface_azimuth,\n",
        "        dni=clearsky['dni'],\n",
        "        ghi=clearsky['ghi'],\n",
        "        dhi=clearsky['dhi'],\n",
        "        solar_zenith=solar_position['apparent_zenith'],\n",
        "        solar_azimuth=solar_position['azimuth'])\n",
        "    # Devolver DataFrame con solo GHI y POA\n",
        "    return pd.DataFrame({'GHI': clearsky['ghi'],\n",
        "                         'POA': POA_irradiance['poa_global']})\n",
        "\n",
        "\n",
        "# Obtener datos de irradiancia \n",
        "# asumiendo una inclinación de 80 grados y orientado a 180 grados hacia el sur\n",
        "summer_irradiance = get_irradiance(site, '06-20-2020', 80, 180)\n",
        "\n",
        "\n",
        "# Convertir índices de marcos de datos en horas: formato de minutos para facilitar el trazado\n",
        "summer_irradiance.index = summer_irradiance.index.strftime(\"%H:%M\")\n",
        "\n",
        "# Graficar \n",
        "fig, (ax1) = plt.subplots(1, sharey=True)\n",
        "summer_irradiance['POA'].plot(ax=ax1, label='POA')\n",
        "ax1.set_xlabel('Time of day (Summer)')\n",
        "ax1.set_ylabel('Irradiance ($W/m^2$)')\n",
        "ax1.legend()\n",
        "plt.show()\n"
      ],
      "execution_count": null,
      "outputs": [
        {
          "output_type": "display_data",
          "data": {
            "image/png": "[encoded data removed]",
            "text/plain": [
              "<Figure size 432x288 with 1 Axes>"
            ]
          },
          "metadata": {
            "tags": [],
            "needs_background": "light"
          }
        }
      ]
    },
    {
      "cell_type": "code",
      "metadata": {
        "colab": {
          "base_uri": "https://localhost:8080/"
        },
        "id": "H0pzIziNx3wg",
        "outputId": "53f1124d-248f-43c2-96eb-d4c784e87256"
      },
      "source": [
        "y_values= summer_irradiance['POA']\n",
        "interval=0.7\n",
        "areapoa=integrate(y_values, interval)\n",
        "print (\"The area POA is\", areapoa)"
      ],
      "execution_count": null,
      "outputs": [
        {
          "output_type": "stream",
          "text": [
            "The area POA is 6404.156652505596\n"
          ],
          "name": "stdout"
        }
      ]
    },
    {
      "cell_type": "code",
      "metadata": {
        "colab": {
          "base_uri": "https://localhost:8080/"
        },
        "id": "a-8qZWQd229S",
        "outputId": "aa6b99a0-7bb5-41da-f1c0-8996a302371e"
      },
      "source": [
        "from __future__ import print_function\n",
        "\n",
        "import numpy as np\n",
        "from scipy.integrate import simps\n",
        "from numpy import trapz\n",
        "\n",
        "\n",
        "# The y values.  A numpy array is used here,\n",
        "# but a python list could also be used.\n",
        "y = summer_irradiance['POA']\n",
        "\n",
        "# Compute the area using the composite trapezoidal rule.\n",
        "area = trapz(y, dx=0.5)\n",
        "print(\"area =\", area)\n",
        "\n",
        "# Compute the area using the composite Simpson's rule.\n",
        "area = simps(y, dx=0.5)\n",
        "print(\"area =\", area)"
      ],
      "execution_count": null,
      "outputs": [
        {
          "output_type": "stream",
          "text": [
            "area = 4574.374223641904\n",
            "area = 4574.374223641904\n"
          ],
          "name": "stdout"
        }
      ]
    },
    {
      "cell_type": "markdown",
      "metadata": {
        "id": "F-JqXY0agZqM"
      },
      "source": [
        "# **Modelo de la bateria**"
      ]
    },
    {
      "cell_type": "code",
      "metadata": {
        "colab": {
          "base_uri": "https://localhost:8080/"
        },
        "id": "B2tD_BctZo0H",
        "outputId": "61faeaa1-4ac4-4542-d7a1-75377a5c3d93"
      },
      "source": [
        "pip install pypsa"
      ],
      "execution_count": null,
      "outputs": [
        {
          "output_type": "stream",
          "text": [
            "Requirement already satisfied: pypsa in /usr/local/lib/python3.6/dist-packages (0.17.1)\n",
            "Requirement already satisfied: matplotlib in /usr/local/lib/python3.6/dist-packages (from pypsa) (3.2.2)\n",
            "Requirement already satisfied: networkx>=1.10 in /usr/local/lib/python3.6/dist-packages (from pypsa) (2.5)\n",
            "Requirement already satisfied: scipy in /usr/local/lib/python3.6/dist-packages (from pypsa) (1.4.1)\n",
            "Requirement already satisfied: six>=1.13.0 in /usr/local/lib/python3.6/dist-packages (from pypsa) (1.15.0)\n",
            "Requirement already satisfied: pandas>=0.24.0 in /usr/local/lib/python3.6/dist-packages (from pypsa) (1.1.4)\n",
            "Requirement already satisfied: tables in /usr/local/lib/python3.6/dist-packages (from pypsa) (3.4.4)\n",
            "Requirement already satisfied: pyomo>=5.7 in /usr/local/lib/python3.6/dist-packages (from pypsa) (5.7.1)\n",
            "Requirement already satisfied: numpy in /usr/local/lib/python3.6/dist-packages (from pypsa) (1.18.5)\n",
            "Requirement already satisfied: python-dateutil>=2.1 in /usr/local/lib/python3.6/dist-packages (from matplotlib->pypsa) (2.8.1)\n",
            "Requirement already satisfied: cycler>=0.10 in /usr/local/lib/python3.6/dist-packages (from matplotlib->pypsa) (0.10.0)\n",
            "Requirement already satisfied: pyparsing!=2.0.4,!=2.1.2,!=2.1.6,>=2.0.1 in /usr/local/lib/python3.6/dist-packages (from matplotlib->pypsa) (2.4.7)\n",
            "Requirement already satisfied: kiwisolver>=1.0.1 in /usr/local/lib/python3.6/dist-packages (from matplotlib->pypsa) (1.3.1)\n",
            "Requirement already satisfied: decorator>=4.3.0 in /usr/local/lib/python3.6/dist-packages (from networkx>=1.10->pypsa) (4.4.2)\n",
            "Requirement already satisfied: pytz>=2017.2 in /usr/local/lib/python3.6/dist-packages (from pandas>=0.24.0->pypsa) (2018.9)\n",
            "Requirement already satisfied: numexpr>=2.5.2 in /usr/local/lib/python3.6/dist-packages (from tables->pypsa) (2.7.1)\n",
            "Requirement already satisfied: ply in /usr/local/lib/python3.6/dist-packages (from pyomo>=5.7->pypsa) (3.11)\n",
            "Requirement already satisfied: PyUtilib>=6.0 in /usr/local/lib/python3.6/dist-packages (from pyomo>=5.7->pypsa) (6.0.0)\n",
            "Requirement already satisfied: nose in /usr/local/lib/python3.6/dist-packages (from PyUtilib>=6.0->pyomo>=5.7->pypsa) (1.3.7)\n"
          ],
          "name": "stdout"
        }
      ]
    },
    {
      "cell_type": "code",
      "metadata": {
        "id": "e08G2Q7KZa8z"
      },
      "source": [
        "import pypsa\n",
        "\n",
        "import pandas as pd\n",
        "\n",
        "%matplotlib inline"
      ],
      "execution_count": null,
      "outputs": []
    },
    {
      "cell_type": "code",
      "metadata": {
        "colab": {
          "base_uri": "https://localhost:8080/",
          "height": 306
        },
        "id": "z2xfIoakcFNQ",
        "outputId": "d7843cc1-8117-456f-e0d1-32d36e35faee"
      },
      "source": [
        "# use 24 hour period for consideration\n",
        "index = pd.date_range(\"2020-01-01 00:00\",\"2020-01-01 23:00\",freq=\"H\")\n",
        "\n",
        "# consumption pattern of BEV\n",
        "#bev_usage = pd.Series([0.]*7 + [9.]*2 + [0.]*8 + [9.]*2 + [0.]*5,index)\n",
        "\n",
        "# solar PV panel generation per unit of capacity\n",
        "#pv_pu = pd.Series([0.]*7 + [0.2,0.4,0.6,0.75,0.85,0.9,0.85,0.75,0.6,0.4,0.2,0.1] + [0.]*5,index)\n",
        "\n",
        "# availability of charging - i.e. only when parked at office\n",
        "charger_p_max_pu = pd.Series(0.,index=index)\n",
        "charger_p_max_pu[\"2020-01-01 09:00\":\"2020-01-01 17:00\"] = 500\n",
        "\n",
        "#bev_usage.plot()\n",
        "#pv_pu.plot()\n",
        "charger_p_max_pu.plot()"
      ],
      "execution_count": null,
      "outputs": [
        {
          "output_type": "execute_result",
          "data": {
            "text/plain": [
              "<matplotlib.axes._subplots.AxesSubplot at 0x7f7e82ceaa90>"
            ]
          },
          "metadata": {
            "tags": []
          },
          "execution_count": 51
        },
        {
          "output_type": "display_data",
          "data": {
            "image/png": "[encoded data removed]",
            "text/plain": [
              "<Figure size 432x288 with 1 Axes>"
            ]
          },
          "metadata": {
            "tags": [],
            "needs_background": "light"
          }
        }
      ]
    },
    {
      "cell_type": "code",
      "metadata": {
        "colab": {
          "base_uri": "https://localhost:8080/"
        },
        "id": "4vTWXWAGec57",
        "outputId": "c3bfd45b-c5a4-4421-f30c-0a27660e909a"
      },
      "source": [
        "y_values= charger_p_max_pu[\"2020-01-01 09:00\":\"2020-01-01 17:00\"]\n",
        "interval=0.5\n",
        "areabatt=integrate(y_values, interval)\n",
        "print (\"The area is\", areabatt)"
      ],
      "execution_count": null,
      "outputs": [
        {
          "output_type": "stream",
          "text": [
            "The area is 2000.0\n"
          ],
          "name": "stdout"
        }
      ]
    },
    {
      "cell_type": "code",
      "metadata": {
        "colab": {
          "base_uri": "https://localhost:8080/"
        },
        "id": "wGN_t3h14odM",
        "outputId": "ff04ecc7-3eae-405d-da5e-154271c1ba16"
      },
      "source": [
        "P_hogar = demanda.sum()\n",
        "P_pv = areapoa\n",
        "Batt = P_pv - P_hogar\n",
        "print (Batt)"
      ],
      "execution_count": null,
      "outputs": [
        {
          "output_type": "stream",
          "text": [
            "2008.1814916898647\n"
          ],
          "name": "stdout"
        }
      ]
    },
    {
      "cell_type": "code",
      "metadata": {
        "colab": {
          "base_uri": "https://localhost:8080/"
        },
        "id": "POYzwKUa570f",
        "outputId": "c18a3902-e84d-4fc7-9c5e-5604e8800283"
      },
      "source": [
        "wh = Batt\n",
        "voltios = 12\n",
        "ah = wh / voltios\n",
        "print(ah) "
      ],
      "execution_count": null,
      "outputs": [
        {
          "output_type": "stream",
          "text": [
            "167.34845764082206\n"
          ],
          "name": "stdout"
        }
      ]
    },
    {
      "cell_type": "markdown",
      "metadata": {
        "id": "Rw6YowJy7zta"
      },
      "source": [
        "Por lo que se puede usar la bateria de 12v a 150 ah de marca NETION de referencia AGM\n",
        "[Bateria](https://articulo.mercadolibre.com.co/MCO-565674178-bateria-vrla-netion-12v-100ah-recargable-sellada-_JM?matt_tool=99279475&matt_word=&matt_source=google&matt_campaign_id=11584883659&matt_ad_group_id=115595145969&matt_match_type=&matt_network=g&matt_device=c&matt_creative=478554425908&matt_keyword=&matt_ad_position=&matt_ad_type=pla&matt_merchant_id=142994614&matt_product_id=MCO565674178&matt_product_partition_id=311407048681&matt_target_id=pla-311407048681)"
      ]
    },
    {
      "cell_type": "markdown",
      "metadata": {
        "id": "Wd6GYnZ9aWoW"
      },
      "source": [
        "# **Optimizacion**"
      ]
    },
    {
      "cell_type": "markdown",
      "metadata": {
        "id": "Vmrdq-Cqx2DJ"
      },
      "source": [
        "DSS = C/(A+C)"
      ]
    },
    {
      "cell_type": "code",
      "metadata": {
        "id": "nqq527dEaaSV"
      },
      "source": [
        "import cvxopt as cvxopt"
      ],
      "execution_count": null,
      "outputs": []
    },
    {
      "cell_type": "code",
      "metadata": {
        "colab": {
          "base_uri": "https://localhost:8080/"
        },
        "id": "mM1Xh-Diazmy",
        "outputId": "c7b08f8c-7951-4b24-d3c7-afad0717f46d"
      },
      "source": [
        "# Ejemplo programación lineal con CVXopt, EJEMPLO\n",
        "\n",
        "# Resolviendo el problema con cvxopt\n",
        "A = cvxopt.matrix([[-1., -2., 1., 0.], # columna de x1\n",
        "            [-1.5, -1., 0., 1.]]) # columna de x2\n",
        "b = cvxopt.matrix([0., 0., 0., 0.]) # resultados\n",
        "c = cvxopt.matrix([1., 1.]) # funcion objetivo\n",
        "\n",
        "# resolviendo el problema\n",
        "sol=cvxopt.solvers.lp(c,A,b)"
      ],
      "execution_count": null,
      "outputs": [
        {
          "output_type": "stream",
          "text": [
            "     pcost       dcost       gap    pres   dres   k/t\n",
            " 0:  0.0000e+00 -0.0000e+00  5e+00  2e+00  2e+00  1e+00\n",
            " 1:  4.7047e-02 -0.0000e+00  2e-01  1e-01  1e-01  7e-03\n",
            " 2:  4.1283e-04 -0.0000e+00  2e-03  1e-03  1e-03  1e-04\n",
            " 3:  4.1254e-06 -0.0000e+00  2e-05  1e-05  1e-05  1e-06\n",
            " 4:  4.1253e-08 -0.0000e+00  2e-07  1e-07  1e-07  1e-08\n",
            " 5:  4.1253e-10 -0.0000e+00  2e-09  1e-09  1e-09  1e-10\n",
            "Optimal solution found.\n"
          ],
          "name": "stdout"
        }
      ]
    },
    {
      "cell_type": "code",
      "metadata": {
        "colab": {
          "base_uri": "https://localhost:8080/"
        },
        "id": "l4bneO1Ecbi2",
        "outputId": "6366f974-5b57-40dc-8659-a3cac00520f4"
      },
      "source": [
        "\n",
        "# imprimiendo la solucion.\n",
        "print('{0:.2f}, {1:.2f}'.format(sol['x'][0]*-1, sol['x'][1]*-1))"
      ],
      "execution_count": null,
      "outputs": [
        {
          "output_type": "stream",
          "text": [
            "-0.00, -0.00\n"
          ],
          "name": "stdout"
        }
      ]
    },
    {
      "cell_type": "code",
      "metadata": {
        "colab": {
          "base_uri": "https://localhost:8080/",
          "height": 499
        },
        "id": "s7-ONtiOcffq",
        "outputId": "9e2c04b3-01c2-41f3-a2a1-3184f2bbdce8"
      },
      "source": [
        "\n",
        "# Resolviendo la optimizacion graficamente.\n",
        "x_vals = np.linspace(0, 800, 10) # 10 valores entre 0 y 800\n",
        "y1 = ((750 - x_vals)/1.5) # x1 + 1.5x2 = 750\n",
        "y2 = (1000 - 2*x_vals) # 2x1 + x2 = 1000\n",
        "plt.figure(figsize=(10,8))\n",
        "plt.plot(x_vals, y1, label=r'$x_1 + 1.5x_2 \\leq 750$') \n",
        "plt.plot(x_vals, y2, label=r'$2x_1 + x_2 \\leq 1000$') #\n",
        "plt.plot(375, 250, 'b*', markersize=15)\n",
        "\n",
        "# Región factible\n",
        "y3 = np.minimum(y1, y2)\n",
        "plt.fill_between(x_vals, 0, y3, alpha=0.15, color='b')\n",
        "plt.axis(ymin = 0)\n",
        "plt.title('Optimización lineal')\n",
        "plt.legend()\n",
        "plt.show()"
      ],
      "execution_count": null,
      "outputs": [
        {
          "output_type": "display_data",
          "data": {
            "image/png": "[encoded data removed]",
            "text/plain": [
              "<Figure size 720x576 with 1 Axes>"
            ]
          },
          "metadata": {
            "tags": [],
            "needs_background": "light"
          }
        }
      ]
    },
    {
      "cell_type": "code",
      "metadata": {
        "id": "PRl40Nwp1jMe"
      },
      "source": [
        "import cvxpy as cp\r\n",
        "import numpy as np\r\n",
        "import matplotlib.pyplot as plt"
      ],
      "execution_count": null,
      "outputs": []
    },
    {
      "cell_type": "code",
      "metadata": {
        "colab": {
          "base_uri": "https://localhost:8080/",
          "height": 404
        },
        "id": "ZsPOoymz1kqp",
        "outputId": "a0dacba8-efd6-4872-db9c-f1c1d4760201"
      },
      "source": [
        "import numpy as np\r\n",
        "\r\n",
        "x = np.linspace(-1.5, 1.5)\r\n",
        "\r\n",
        "[X, Y] = np.meshgrid(x, x)\r\n",
        "\r\n",
        "import matplotlib as mpl\r\n",
        "from mpl_toolkits.mplot3d import Axes3D\r\n",
        "import matplotlib.pyplot as plt\r\n",
        "\r\n",
        "fig = plt.figure()\r\n",
        "ax = fig.gca(projection='3d')\r\n",
        "\r\n",
        "ax.plot_surface(X, Y, X/(X+Y))\r\n",
        "\r\n",
        "theta = np.linspace(0,2*np.pi);\r\n",
        "R = 1.0\r\n",
        "x1 = R * np.cos(theta)\r\n",
        "y1 = R * np.sin(theta)\r\n",
        "\r\n",
        "ax.plot(x1, y1, x1/ (x1+y1), 'r-')"
      ],
      "execution_count": null,
      "outputs": [
        {
          "output_type": "stream",
          "text": [
            "/usr/local/lib/python3.6/dist-packages/ipykernel_launcher.py:14: RuntimeWarning: divide by zero encountered in true_divide\n",
            "  \n",
            "/usr/local/lib/python3.6/dist-packages/numpy/core/numeric.py:1596: RuntimeWarning: invalid value encountered in multiply\n",
            "  multiply(a1, b2, out=cp0)\n",
            "/usr/local/lib/python3.6/dist-packages/numpy/core/numeric.py:1599: RuntimeWarning: invalid value encountered in multiply\n",
            "  multiply(a2, b0, out=cp1)\n"
          ],
          "name": "stderr"
        },
        {
          "output_type": "execute_result",
          "data": {
            "text/plain": [
              "[<mpl_toolkits.mplot3d.art3d.Line3D at 0x7feb8d05c7f0>]"
            ]
          },
          "metadata": {
            "tags": []
          },
          "execution_count": 48
        },
        {
          "output_type": "stream",
          "text": [
            "/usr/local/lib/python3.6/dist-packages/mpl_toolkits/mplot3d/proj3d.py:152: RuntimeWarning: invalid value encountered in true_divide\n",
            "  txs, tys, tzs = vecw[0]/w, vecw[1]/w, vecw[2]/w\n"
          ],
          "name": "stderr"
        },
        {
          "output_type": "display_data",
          "data": {
            "image/png": "[encoded data removed]",
            "text/plain": [
              "<Figure size 432x288 with 1 Axes>"
            ]
          },
          "metadata": {
            "tags": [],
            "needs_background": "light"
          }
        }
      ]
    },
    {
      "cell_type": "code",
      "metadata": {
        "id": "0oX6Tc9072UU"
      },
      "source": [
        "import numpy as np\r\n",
        "\r\n",
        "def func(X):\r\n",
        "    x = X[0]\r\n",
        "    y = X[1]\r\n",
        "    L = X[2] # este es el multiplicador. lambda es una variable reservada en Python\r\n",
        "    return x + y + L * (x**2 + y**2 - 1)"
      ],
      "execution_count": null,
      "outputs": []
    },
    {
      "cell_type": "code",
      "metadata": {
        "id": "I2gBKFYu8IKB"
      },
      "source": [
        "def dfunc(X):\r\n",
        "    dLambda = np.zeros(len(X))\r\n",
        "    h = 1e-3 \r\n",
        "    for i in range(len(X)):\r\n",
        "        dX = np.zeros(len(X))\r\n",
        "        dX[i] = h\r\n",
        "        dLambda[i] = (func(X+dX)-func(X-dX))/(2*h);\r\n",
        "    return dLambda"
      ],
      "execution_count": null,
      "outputs": []
    },
    {
      "cell_type": "code",
      "metadata": {
        "colab": {
          "base_uri": "https://localhost:8080/"
        },
        "id": "YiD47nER8KzY",
        "outputId": "479eb98f-183f-4b6e-b7ee-43b94bc99cc9"
      },
      "source": [
        "from scipy.optimize import fsolve\r\n",
        "\r\n",
        "# este es el maximo\r\n",
        "X1 = fsolve(dfunc, [1, 1, 0])\r\n",
        "print (X1, func(X1))\r\n",
        "\r\n",
        "# este es el minimo\r\n",
        "X2 = fsolve(dfunc, [-1, -1, 0])\r\n",
        "print (X2, func(X2))"
      ],
      "execution_count": null,
      "outputs": [
        {
          "output_type": "stream",
          "text": [
            "[ 0.70710678  0.70710678 -0.70710678] 1.4142135623730951\n",
            "[-0.70710678 -0.70710678  0.70710678] -1.414213562373095\n"
          ],
          "name": "stdout"
        }
      ]
    }
  ]
}