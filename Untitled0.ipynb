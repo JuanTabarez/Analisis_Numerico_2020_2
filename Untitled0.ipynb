{
  "nbformat": 4,
  "nbformat_minor": 0,
  "metadata": {
    "colab": {
      "name": "Untitled0.ipynb",
      "provenance": [],
      "authorship_tag": "ABX9TyNrtf2s7ZKs+5oDXa3kKfn8",
      "include_colab_link": true
    },
    "kernelspec": {
      "name": "python3",
      "display_name": "Python 3"
    }
  },
  "cells": [
    {
      "cell_type": "markdown",
      "metadata": {
        "id": "view-in-github",
        "colab_type": "text"
      },
      "source": [
        "<a href=\"https://colab.research.google.com/github/JuanTabarez/Analisis_Numerico_2020_2/blob/master/Untitled0.ipynb\" target=\"_parent\"><img src=\"https://colab.research.google.com/assets/colab-badge.svg\" alt=\"Open In Colab\"/></a>"
      ]
    },
    {
      "cell_type": "markdown",
      "metadata": {
        "id": "8TFpcRX5Q1ch"
      },
      "source": [
        "# ***Convex 4.5***"
      ]
    },
    {
      "cell_type": "code",
      "metadata": {
        "id": "lNcbcPmuQ70y"
      },
      "source": [
        "import cvxpy as cp\r\n",
        "import numpy as np\r\n",
        "import math"
      ],
      "execution_count": 1,
      "outputs": []
    },
    {
      "cell_type": "code",
      "metadata": {
        "colab": {
          "base_uri": "https://localhost:8080/"
        },
        "id": "UT9cO6tWQ-rR",
        "outputId": "91e84167-3f84-4594-f68a-3effc47b61a3"
      },
      "source": [
        "A = np.array([[1 ,- 10*math.log10(10)], \r\n",
        "     [1 ,- 10*math.log10(20)],\r\n",
        "     [1 ,- 10*math.log10(50)],\r\n",
        "     [1 ,- 10*math.log10(100)],\r\n",
        "     [1 ,- 10*math.log10(300)]])\r\n",
        "b = np.array([-70,-75,-90,-110,-125])\r\n",
        "x = cp.Variable(2)\r\n",
        "cost = cp.sum_squares(A @ x - b)\r\n",
        "prob = cp.Problem(cp.Minimize(cost))\r\n",
        "prob.solve()\r\n",
        "\r\n",
        "# Print result.\r\n",
        "print(\"\\nThe optimal value is\", cp.norm(A @ x - b, p=2).value)\r\n",
        "print(\"The optimal x is\")\r\n",
        "print(x.value)"
      ],
      "execution_count": 4,
      "outputs": [
        {
          "output_type": "stream",
          "text": [
            "\n",
            "The optimal value is 7.524206953382565\n",
            "The optimal x is\n",
            "[-26.7439583    3.96691516]\n"
          ],
          "name": "stdout"
        }
      ]
    },
    {
      "cell_type": "markdown",
      "metadata": {
        "id": "vwTtqokZRHFp"
      },
      "source": [
        "# **4.5.2**"
      ]
    },
    {
      "cell_type": "code",
      "metadata": {
        "colab": {
          "base_uri": "https://localhost:8080/"
        },
        "id": "NErt6Rg3ROox",
        "outputId": "0c91c99a-6df3-4877-a704-efdddee252b5"
      },
      "source": [
        "W = 1\r\n",
        "rth = np.array([2, 1])\r\n",
        "a= np.array([1, 1])\r\n",
        "b = np.array([1, 0.5])\r\n",
        "\r\n",
        "p = cp.Variable(2)\r\n",
        "w = cp.Variable(2)\r\n",
        "\r\n",
        "prob = cp.Problem(cp.Minimize(sum(p)**2),\r\n",
        "                 [\r\n",
        "                  rth[0]*cp.log(2) + a[0]*cp.kl_div(w[0],w[0]+b[0]*p[0]) - a[0]*b[0]*p[0] <= 0,   \r\n",
        "                  rth[1]*cp.log(2) + a[1]*cp.kl_div(w[1],w[1]+b[1]*p[1]) - a[1]*b[1]*p[1] <= 0,                           \r\n",
        "                  w >=0,\r\n",
        "                  p >=0,\r\n",
        "                  sum(w)==W\r\n",
        "                  ])\r\n",
        "prob.solve()\r\n",
        "\r\n",
        "print(\"\\nThe optimal value is\", prob.value)\r\n",
        "print(\"A solution p is\")\r\n",
        "print(p.value)\r\n",
        "print(\"A solution w is\")\r\n",
        "print(w.value)"
      ],
      "execution_count": 7,
      "outputs": [
        {
          "output_type": "stream",
          "text": [
            "\n",
            "The optimal value is 83.35315477842217\n",
            "A solution p is\n",
            "[5.15674609 3.9730488 ]\n",
            "A solution w is\n",
            "[0.62189165 0.37810835]\n"
          ],
          "name": "stdout"
        }
      ]
    },
    {
      "cell_type": "markdown",
      "metadata": {
        "id": "q53fWOg2Rup0"
      },
      "source": [
        "# **4.5.3**"
      ]
    },
    {
      "cell_type": "code",
      "metadata": {
        "colab": {
          "base_uri": "https://localhost:8080/"
        },
        "id": "karmh1FCRaMx",
        "outputId": "77aad59e-377e-4946-aef0-37578c799939"
      },
      "source": [
        "m = 4;\r\n",
        "SINR = np.array([ [15], [12], [9], [6] ]) \r\n",
        "noise_pow = 1e-9\r\n",
        "\r\n",
        "H=np.zeros((m,m))\r\n",
        "\r\n",
        "for i in range(m):\r\n",
        "  for j in range(m):\r\n",
        "    H[i,j] = np.exp(-abs(i-j))\r\n",
        "\r\n",
        "d = np.diag(H)\r\n",
        "p = cp.Variable((m,1))\r\n",
        "\r\n",
        "prob = cp.Problem(cp.Minimize(sum(p)),\r\n",
        "                  [SINR*(H-np.diag(d)).T@p  + SINR*noise_pow - d*p <= 0,\r\n",
        "                   p >= 0\r\n",
        "                  ])\r\n",
        "prob.solve()\r\n",
        "print(\"status:\", prob.status)\r\n",
        "print(\"\\nThe optimal value is\", prob.value)\r\n",
        "print(\"A solution p is\")\r\n",
        "print(p.value)"
      ],
      "execution_count": 9,
      "outputs": [
        {
          "output_type": "stream",
          "text": [
            "status: optimal_inaccurate\n",
            "\n",
            "The optimal value is 1.9983388098097472e-08\n",
            "A solution p is\n",
            "[[8.64501405e-09]\n",
            " [5.82952061e-10]\n",
            " [9.05976727e-11]\n",
            " [1.06648243e-08]]\n"
          ],
          "name": "stdout"
        }
      ]
    },
    {
      "cell_type": "markdown",
      "metadata": {
        "id": "kN2EywVXR1tr"
      },
      "source": [
        "# **4.5.4**"
      ]
    },
    {
      "cell_type": "code",
      "metadata": {
        "colab": {
          "base_uri": "https://localhost:8080/"
        },
        "id": "VIEbe6kER0XE",
        "outputId": "b7be30b3-d182-4e9b-dff4-a06d09ee1ee2"
      },
      "source": [
        "d = np.array([[1],[2],[3]]) # demand\r\n",
        "s = np.array([[3],[3],[3]]) # supply\r\n",
        "n = 3;\r\n",
        "b = np.ones((n,1));\r\n",
        "\r\n",
        "x=cp.Variable((n,n))\r\n",
        "\r\n",
        "prob = cp.Problem(cp.Minimize(sum(x[0,:])**2 + sum(x[1,:])**2),\r\n",
        "                  [x.T@b == d,\r\n",
        "                   x@b <= s,\r\n",
        "                   x >= 0\r\n",
        "                  ])\r\n",
        "prob.solve()\r\n",
        "\r\n",
        "print(\"\\nThe optimal value is\", prob.value)\r\n",
        "print(\"A solution x is\")\r\n",
        "print(x.value)"
      ],
      "execution_count": 10,
      "outputs": [
        {
          "output_type": "stream",
          "text": [
            "\n",
            "The optimal value is 4.5\n",
            "A solution x is\n",
            "[[0.16666667 0.5        0.83333333]\n",
            " [0.16666667 0.5        0.83333333]\n",
            " [0.66666667 1.         1.33333333]]\n"
          ],
          "name": "stdout"
        }
      ]
    }
  ]
}