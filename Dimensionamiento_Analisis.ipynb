{
  "nbformat": 4,
  "nbformat_minor": 0,
  "metadata": {
    "colab": {
      "name": "Dimensionamiento_Analisis.ipynb",
      "provenance": [],
      "authorship_tag": "ABX9TyOaKG+jOzz0LaU71L5VzC+w",
      "include_colab_link": true
    },
    "kernelspec": {
      "name": "python3",
      "display_name": "Python 3"
    }
  },
  "cells": [
    {
      "cell_type": "markdown",
      "metadata": {
        "id": "view-in-github",
        "colab_type": "text"
      },
      "source": [
        "<a href=\"https://colab.research.google.com/github/JuanTabarez/Analisis_Numerico_2020_2/blob/master/Dimensionamiento_Analisis.ipynb\" target=\"_parent\"><img src=\"https://colab.research.google.com/assets/colab-badge.svg\" alt=\"Open In Colab\"/></a>"
      ]
    },
    {
      "cell_type": "markdown",
      "metadata": {
        "id": "jvN1UvF8jhD1"
      },
      "source": [
        "# **Curva de carga**\n",
        "\n",
        "\n"
      ]
    },
    {
      "cell_type": "code",
      "metadata": {
        "id": "jmpA4nWejSii"
      },
      "source": [
        "import numpy as np\n",
        "import matplotlib.pyplot as plt\n",
        "from scipy.stats import norm"
      ],
      "execution_count": 1,
      "outputs": []
    },
    {
      "cell_type": "code",
      "metadata": {
        "colab": {
          "base_uri": "https://localhost:8080/",
          "height": 282
        },
        "id": "gwVao4mVj0DY",
        "outputId": "6caaab59-7e36-4ce2-f128-0240f10cb775"
      },
      "source": [
        "x = np.arange(0,24,0.1)\n",
        "\n",
        "mean, standard_deviation = 6,2\n",
        "\n",
        "y1=norm(mean,standard_deviation)\n",
        "m2,sd2 = 12,2.5\n",
        "y2=norm(m2,sd2)\n",
        "m3,sd3 = 18,2\n",
        "y3 = norm(m3,sd3)\n",
        "\n",
        "#plt.plot(x,4*y1.pdf(x))\n",
        "#plt.plot(x,6*y2.pdf(x))\n",
        "#plt.plot(x,8*y3.pdf(x))\n",
        "\n",
        "demanda = 4*y1.pdf(x) + 6*y2.pdf(x) + 8*y3.pdf(x)\n",
        "\n",
        "plt.plot(x,demanda)\n"
      ],
      "execution_count": 19,
      "outputs": [
        {
          "output_type": "execute_result",
          "data": {
            "text/plain": [
              "[<matplotlib.lines.Line2D at 0x7fe7d3a0cf60>]"
            ]
          },
          "metadata": {
            "tags": []
          },
          "execution_count": 19
        },
        {
          "output_type": "display_data",
          "data": {
            "image/png": "[encoded data removed]",
            "text/plain": [
              "<Figure size 432x288 with 1 Axes>"
            ]
          },
          "metadata": {
            "tags": [],
            "needs_background": "light"
          }
        }
      ]
    },
    {
      "cell_type": "code",
      "metadata": {
        "colab": {
          "base_uri": "https://localhost:8080/"
        },
        "id": "-YUKCIRgnNLC",
        "outputId": "ace62cec-0fc0-4059-9bba-12201609b72b"
      },
      "source": [
        "print(x,demanda)"
      ],
      "execution_count": 20,
      "outputs": [
        {
          "output_type": "stream",
          "text": [
            "[ 0.   0.1  0.2  0.3  0.4  0.5  0.6  0.7  0.8  0.9  1.   1.1  1.2  1.3\n",
            "  1.4  1.5  1.6  1.7  1.8  1.9  2.   2.1  2.2  2.3  2.4  2.5  2.6  2.7\n",
            "  2.8  2.9  3.   3.1  3.2  3.3  3.4  3.5  3.6  3.7  3.8  3.9  4.   4.1\n",
            "  4.2  4.3  4.4  4.5  4.6  4.7  4.8  4.9  5.   5.1  5.2  5.3  5.4  5.5\n",
            "  5.6  5.7  5.8  5.9  6.   6.1  6.2  6.3  6.4  6.5  6.6  6.7  6.8  6.9\n",
            "  7.   7.1  7.2  7.3  7.4  7.5  7.6  7.7  7.8  7.9  8.   8.1  8.2  8.3\n",
            "  8.4  8.5  8.6  8.7  8.8  8.9  9.   9.1  9.2  9.3  9.4  9.5  9.6  9.7\n",
            "  9.8  9.9 10.  10.1 10.2 10.3 10.4 10.5 10.6 10.7 10.8 10.9 11.  11.1\n",
            " 11.2 11.3 11.4 11.5 11.6 11.7 11.8 11.9 12.  12.1 12.2 12.3 12.4 12.5\n",
            " 12.6 12.7 12.8 12.9 13.  13.1 13.2 13.3 13.4 13.5 13.6 13.7 13.8 13.9\n",
            " 14.  14.1 14.2 14.3 14.4 14.5 14.6 14.7 14.8 14.9 15.  15.1 15.2 15.3\n",
            " 15.4 15.5 15.6 15.7 15.8 15.9 16.  16.1 16.2 16.3 16.4 16.5 16.6 16.7\n",
            " 16.8 16.9 17.  17.1 17.2 17.3 17.4 17.5 17.6 17.7 17.8 17.9 18.  18.1\n",
            " 18.2 18.3 18.4 18.5 18.6 18.7 18.8 18.9 19.  19.1 19.2 19.3 19.4 19.5\n",
            " 19.6 19.7 19.8 19.9 20.  20.1 20.2 20.3 20.4 20.5 20.6 20.7 20.8 20.9\n",
            " 21.  21.1 21.2 21.3 21.4 21.5 21.6 21.7 21.8 21.9 22.  22.1 22.2 22.3\n",
            " 22.4 22.5 22.6 22.7 22.8 22.9 23.  23.1 23.2 23.3 23.4 23.5 23.6 23.7\n",
            " 23.8 23.9] [0.0088732  0.01029679 0.01191898 0.01376232 0.01585113 0.01821146\n",
            " 0.0208711  0.02385954 0.0272079  0.03094886 0.03511646 0.03974603\n",
            " 0.04487391 0.05053721 0.05677357 0.06362077 0.07111639 0.07929741\n",
            " 0.08819968 0.09785752 0.10830313 0.11956603 0.13167254 0.1446451\n",
            " 0.1585017  0.17325531 0.1889132  0.20547642 0.22293922 0.2412886\n",
            " 0.26050376 0.2805558  0.30140738 0.32301251 0.3453164  0.3682555\n",
            " 0.39175756 0.41574188 0.4401197  0.46479461 0.48966326 0.51461605\n",
            " 0.53953805 0.56430996 0.58880923 0.6129113  0.63649083 0.65942308\n",
            " 0.68158535 0.70285836 0.72312774 0.74228542 0.76023105 0.77687334\n",
            " 0.7921313  0.80593537 0.81822847 0.82896691 0.83812105 0.8456759\n",
            " 0.85163146 0.85600291 0.85882058 0.86012972 0.8599901  0.85847536\n",
            " 0.85567223 0.85167954 0.84660711 0.84057446 0.8337094  0.82614654\n",
            " 0.8180257  0.80949025 0.80068549 0.7917569  0.78284852 0.7741013\n",
            " 0.76565154 0.75762937 0.7501574  0.74334942 0.73730924 0.73212972\n",
            " 0.72789187 0.72466421 0.72250216 0.72144774 0.72152933 0.7227616\n",
            " 0.72514566 0.7286693  0.73330739 0.73902241 0.74576511 0.75347525\n",
            " 0.76208251 0.77150738 0.78166221 0.79245229 0.80377698 0.81553084\n",
            " 0.82760484 0.83988757 0.85226641 0.86462873 0.87686309 0.88886033\n",
            " 0.90051474 0.91172508 0.92239567 0.93243727 0.94176808 0.95031451\n",
            " 0.95801202 0.96480578 0.97065132 0.97551508 0.97937483 0.98222014\n",
            " 0.98405256 0.9848859  0.98474626 0.98367209 0.98171405 0.97893481\n",
            " 0.97540875 0.97122154 0.96646958 0.9612594  0.9557069  0.94993646\n",
            " 0.94407999 0.93827584 0.9326676  0.92740285 0.9226317  0.9185054\n",
            " 0.91517472 0.91278836 0.91149125 0.91142284 0.91271531 0.91549187\n",
            " 0.91986494 0.92593445 0.93378619 0.94349018 0.95509918 0.96864732\n",
            " 0.98414888 1.00159723 1.02096398 1.0421983  1.0652266  1.08995232\n",
            " 1.11625606 1.14399603 1.17300871 1.20310988 1.23409587 1.26574517\n",
            " 1.29782024 1.33006968 1.36223055 1.39403093 1.42519272 1.45543448\n",
            " 1.48447453 1.51203397 1.53783984 1.56162822 1.58314727 1.60216014\n",
            " 1.61844779 1.63181154 1.64207545 1.64908836 1.65272565 1.65289072\n",
            " 1.64951601 1.64256372 1.63202614 1.61792557 1.60031386 1.5792716\n",
            " 1.55490693 1.52735404 1.49677133 1.46333934 1.42725839 1.38874607\n",
            " 1.34803456 1.3053678  1.26099869 1.21518616 1.16819234 1.12027973\n",
            " 1.07170855 1.02273417 0.97360471 0.92455889 0.87582405 0.82761442\n",
            " 0.78012967 0.73355367 0.68805358 0.64377916 0.60086231 0.55941693\n",
            " 0.51953895 0.4813066  0.44478089 0.41000626 0.37701135 0.34580995\n",
            " 0.31640202 0.28877484 0.26290417 0.23875545 0.21628506 0.19544156\n",
            " 0.17616687 0.15839749 0.14206558 0.12710007 0.11342764 0.10097365\n",
            " 0.08966297 0.07942074 0.07017306 0.06184755 0.05437384 0.04768403\n",
            " 0.04171297 0.03639859 0.03168204 0.02750786 0.02382404 0.02058207]\n"
          ],
          "name": "stdout"
        }
      ]
    },
    {
      "cell_type": "code",
      "metadata": {
        "colab": {
          "base_uri": "https://localhost:8080/"
        },
        "id": "LNQvlydenZAm",
        "outputId": "3c6093ec-e4ad-4414-ca87-39923f456b03"
      },
      "source": [
        "print(demanda.sum())"
      ],
      "execution_count": 21,
      "outputs": [
        {
          "output_type": "stream",
          "text": [
            "179.83315257881026\n"
          ],
          "name": "stdout"
        }
      ]
    },
    {
      "cell_type": "markdown",
      "metadata": {
        "id": "npIW1N8Enwm2"
      },
      "source": [
        "# **Curva de generacion**"
      ]
    },
    {
      "cell_type": "code",
      "metadata": {
        "colab": {
          "base_uri": "https://localhost:8080/",
          "height": 313
        },
        "id": "BBiFJMA6n1cE",
        "outputId": "0e8856e0-073a-446b-e6d9-1cbf02eaed4b"
      },
      "source": [
        "from matplotlib.pyplot import *\n",
        "from numpy import *\n",
        "x=linspace(0,24,5000)\n",
        "y=-(x-6)*(x-18)\n",
        "plot(x,y)\n",
        "xlabel(\"x axis\")\n",
        "ylabel(\"y axis\")\n",
        "print(x)\n",
        "show()\n"
      ],
      "execution_count": 53,
      "outputs": [
        {
          "output_type": "stream",
          "text": [
            "[0.00000000e+00 4.80096019e-03 9.60192038e-03 ... 2.39903981e+01\n",
            " 2.39951990e+01 2.40000000e+01]\n"
          ],
          "name": "stdout"
        },
        {
          "output_type": "display_data",
          "data": {
            "image/png": "[encoded data removed]",
            "text/plain": [
              "<Figure size 432x288 with 1 Axes>"
            ]
          },
          "metadata": {
            "tags": [],
            "needs_background": "light"
          }
        }
      ]
    },
    {
      "cell_type": "code",
      "metadata": {
        "colab": {
          "base_uri": "https://localhost:8080/"
        },
        "id": "hxmF4Q0kz4AI",
        "outputId": "02392908-79d2-486c-bbb3-2b95d4287445"
      },
      "source": [
        "pip install pvlib"
      ],
      "execution_count": 55,
      "outputs": [
        {
          "output_type": "stream",
          "text": [
            "Collecting pvlib\n",
            "\u001b[?25l  Downloading https://files.pythonhosted.org/packages/86/a5/099311b8ffab16adf6e44b51ad91f4f88145c844e43237e2b32e7a1f3151/pvlib-0.8.0-py3-none-any.whl (22.3MB)\n",
            "\u001b[K     |████████████████████████████████| 22.3MB 1.5MB/s \n",
            "\u001b[?25hRequirement already satisfied: pytz in /usr/local/lib/python3.6/dist-packages (from pvlib) (2018.9)\n",
            "Requirement already satisfied: numpy>=1.12.0 in /usr/local/lib/python3.6/dist-packages (from pvlib) (1.18.5)\n",
            "Requirement already satisfied: requests in /usr/local/lib/python3.6/dist-packages (from pvlib) (2.23.0)\n",
            "Requirement already satisfied: pandas>=0.22.0 in /usr/local/lib/python3.6/dist-packages (from pvlib) (1.1.4)\n",
            "Requirement already satisfied: scipy>=1.2.0 in /usr/local/lib/python3.6/dist-packages (from pvlib) (1.4.1)\n",
            "Requirement already satisfied: chardet<4,>=3.0.2 in /usr/local/lib/python3.6/dist-packages (from requests->pvlib) (3.0.4)\n",
            "Requirement already satisfied: urllib3!=1.25.0,!=1.25.1,<1.26,>=1.21.1 in /usr/local/lib/python3.6/dist-packages (from requests->pvlib) (1.24.3)\n",
            "Requirement already satisfied: certifi>=2017.4.17 in /usr/local/lib/python3.6/dist-packages (from requests->pvlib) (2020.11.8)\n",
            "Requirement already satisfied: idna<3,>=2.5 in /usr/local/lib/python3.6/dist-packages (from requests->pvlib) (2.10)\n",
            "Requirement already satisfied: python-dateutil>=2.7.3 in /usr/local/lib/python3.6/dist-packages (from pandas>=0.22.0->pvlib) (2.8.1)\n",
            "Requirement already satisfied: six>=1.5 in /usr/local/lib/python3.6/dist-packages (from python-dateutil>=2.7.3->pandas>=0.22.0->pvlib) (1.15.0)\n",
            "Installing collected packages: pvlib\n",
            "Successfully installed pvlib-0.8.0\n"
          ],
          "name": "stdout"
        }
      ]
    },
    {
      "cell_type": "code",
      "metadata": {
        "colab": {
          "base_uri": "https://localhost:8080/",
          "height": 279
        },
        "id": "DinRIQQVx6W7",
        "outputId": "a7d6eeaf-65a5-4649-9d7f-21274f48c210"
      },
      "source": [
        "from pvlib import location\n",
        "from pvlib import irradiance\n",
        "import pandas as pd\n",
        "from matplotlib import pyplot as plt\n",
        "\n",
        "\n",
        "tz = 'MST'\n",
        "lat, lon = 39.755, -105.221\n",
        "\n",
        "#Crear la localizacion, lat, lon, timezone\n",
        "\n",
        "site = location.Location(lat, lon, tz=tz)\n",
        "\n",
        "\n",
        "# Definir una función para que podamos reutilizar la secuencia \n",
        "# de operaciones con diferentes ubicaciones.\n",
        "\n",
        "def get_irradiance(site_location, date, tilt, surface_azimuth):\n",
        "    # Crear intervalos de 10 minutos para un día\n",
        "\n",
        "    times = pd.date_range(date, freq='10min', periods=6*24,\n",
        "                          tz=site_location.tz)\n",
        "    \n",
        "   #  Genere datos claros usando el modelo Ineichen, que es el predeterminado \n",
        "   #  El método get_clearsky devuelve un marco de datos con valores para \n",
        "   #  GHI, DNI y DHI\n",
        "    clearsky = site_location.get_clearsky(times)\n",
        "    # Obtenga el azimuth solar y el zenith para pasar a la función de transposición\n",
        "    solar_position = site_location.get_solarposition(times=times)\n",
        "    # Utilice la función get_total_irradiance para transponer el GHI a POA\n",
        "    POA_irradiance = irradiance.get_total_irradiance(\n",
        "        surface_tilt=tilt,\n",
        "        surface_azimuth=surface_azimuth,\n",
        "        dni=clearsky['dni'],\n",
        "        ghi=clearsky['ghi'],\n",
        "        dhi=clearsky['dhi'],\n",
        "        solar_zenith=solar_position['apparent_zenith'],\n",
        "        solar_azimuth=solar_position['azimuth'])\n",
        "    # Devolver DataFrame con solo GHI y POA\n",
        "    return pd.DataFrame({'GHI': clearsky['ghi'],\n",
        "                         'POA': POA_irradiance['poa_global']})\n",
        "\n",
        "\n",
        "# Obtener datos de irradiancia para el verano e invierno, \n",
        "# asumiendo una inclinación de 25 grados y orientado al sur\n",
        "summer_irradiance = get_irradiance(site, '06-20-2020', 25, 180)\n",
        "#winter_irradiance = get_irradiance(site, '12-21-2020', 25, 180)\n",
        "\n",
        "# Convertir índices de marcos de datos en horas: formato de minutos para facilitar el trazado\n",
        "summer_irradiance.index = summer_irradiance.index.strftime(\"%H:%M\")\n",
        "#winter_irradiance.index = winter_irradiance.index.strftime(\"%H:%M\")\n",
        "\n",
        "# Graficar GHI vs POA para invierno y verano\n",
        "fig, (ax1) = plt.subplots(1, sharey=True)\n",
        "summer_irradiance['GHI'].plot(ax=ax1, label='GHI')\n",
        "#summer_irradiance['POA'].plot(ax=ax1, label='POA')\n",
        "#winter_irradiance['GHI'].plot(ax=ax2, label='GHI')\n",
        "#winter_irradiance['POA'].plot(ax=ax2, label='POA')\n",
        "ax1.set_xlabel('Time of day (Summer)')\n",
        "#ax2.set_xlabel('Time of day (Winter)')\n",
        "ax1.set_ylabel('Irradiance ($W/m^2$)')\n",
        "ax1.legend()\n",
        "#ax2.legend()\n",
        "plt.show()"
      ],
      "execution_count": 79,
      "outputs": [
        {
          "output_type": "display_data",
          "data": {
            "image/png": "[encoded data removed]",
            "text/plain": [
              "<Figure size 432x288 with 1 Axes>"
            ]
          },
          "metadata": {
            "tags": [],
            "needs_background": "light"
          }
        }
      ]
    }
  ]
}